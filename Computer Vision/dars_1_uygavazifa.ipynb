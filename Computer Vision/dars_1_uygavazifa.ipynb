{
 "cells": [
  {
   "cell_type": "code",
   "execution_count": 2,
   "id": "6873aeae",
   "metadata": {},
   "outputs": [],
   "source": [
    "import numpy as np\n",
    "import cv2"
   ]
  },
  {
   "cell_type": "markdown",
   "id": "6c54f7fe",
   "metadata": {},
   "source": [
    "# Rasmni qirqish"
   ]
  },
  {
   "cell_type": "code",
   "execution_count": 19,
   "id": "838434a2",
   "metadata": {},
   "outputs": [],
   "source": [
    "rasm = cv2.imread(\"rasmlar/Tashkent.png\")\n",
    "cv2.imshow(\"rasm\",rasm)\n",
    "cv2.waitKey(0)\n",
    "cv2.destroyAllWindows()"
   ]
  },
  {
   "cell_type": "code",
   "execution_count": 21,
   "id": "37402391",
   "metadata": {},
   "outputs": [
    {
     "name": "stdout",
     "output_type": "stream",
     "text": [
      "(275, 183, 3)\n"
     ]
    }
   ],
   "source": [
    "print(rasm.shape)"
   ]
  },
  {
   "cell_type": "code",
   "execution_count": 25,
   "id": "a2ea7aa0",
   "metadata": {},
   "outputs": [],
   "source": [
    "rasm = rasm[150:250,50:150]#rasm array bo'lgani uchun index orqali qirqib olsak bo'ladi"
   ]
  },
  {
   "cell_type": "code",
   "execution_count": 24,
   "id": "f4911d94",
   "metadata": {},
   "outputs": [
    {
     "name": "stdout",
     "output_type": "stream",
     "text": [
      "(100, 100, 3)\n"
     ]
    }
   ],
   "source": [
    "print(rasm.shape)"
   ]
  },
  {
   "cell_type": "code",
   "execution_count": 23,
   "id": "1bcb52e2",
   "metadata": {},
   "outputs": [],
   "source": [
    "cv2.imshow(\"rasm\",rasm)\n",
    "cv2.waitKey(0)\n",
    "cv2.destroyAllWindows()"
   ]
  },
  {
   "cell_type": "markdown",
   "id": "708f4462",
   "metadata": {},
   "source": [
    "# Rasmni kattalashtirish"
   ]
  },
  {
   "cell_type": "code",
   "execution_count": 31,
   "id": "db2d46ac",
   "metadata": {},
   "outputs": [],
   "source": [
    "img = cv2.imread(\"rasmlar/Tashkent.png\")\n",
    "def resize(scale, img):    \n",
    "    img = np.repeat(img, scale, axis=0)#axisis 0 bo'yicha cho'zish\n",
    "    img = np.repeat(img, scale, axis=1)#axisis 1 bo'yicha cho'zish\n",
    "    cv2.imshow(\"rasm\", img)\n",
    "    cv2.waitKey(0)\n",
    "    cv2.destroyAllWindows()\n",
    "resize(4,img)"
   ]
  },
  {
   "cell_type": "code",
   "execution_count": 36,
   "id": "167d8f0a",
   "metadata": {},
   "outputs": [],
   "source": [
    "rasm = cv2.rectangle(img,(0,0),(100,100),(0,0,255))#to'rtburchak chizish funksiyasi\n",
    "cv2.imshow(\"rasm\", img)\n",
    "cv2.waitKey(0)\n",
    "cv2.destroyAllWindows()"
   ]
  },
  {
   "cell_type": "code",
   "execution_count": 38,
   "id": "ef14520a",
   "metadata": {},
   "outputs": [],
   "source": [
    "rasm = cv2.circle(rasm,(100,100),50,(0,0,255))#aylana chirish funksiyasi\n",
    "cv2.imshow(\"rasm\", img)\n",
    "cv2.waitKey(0)\n",
    "cv2.destroyAllWindows()"
   ]
  },
  {
   "cell_type": "code",
   "execution_count": 39,
   "id": "89eeb3b0",
   "metadata": {},
   "outputs": [],
   "source": [
    "rasm = cv2.line(rasm,(50,50),(150,150),(0,0,255))#chizziq chizish funksiaysi\n",
    "cv2.imshow(\"rasm\", img)\n",
    "cv2.waitKey(0)\n",
    "cv2.destroyAllWindows()"
   ]
  },
  {
   "cell_type": "code",
   "execution_count": 45,
   "id": "0491f0df",
   "metadata": {},
   "outputs": [],
   "source": [
    "rasm_1 = cv2.imread(\"rasmlar/tashkent.jpg\")\n",
    "cv2.imshow(\"rasm\", rasm_1)\n",
    "cv2.waitKey(0)\n",
    "cv2.destroyAllWindows()"
   ]
  },
  {
   "cell_type": "code",
   "execution_count": 48,
   "id": "128deb69",
   "metadata": {},
   "outputs": [],
   "source": [
    "rasm_2 = cv2.imread(\"rasmlar/tashkent1.jpg\")\n",
    "cv2.imshow(\"rasm_1\", rasm_2)\n",
    "cv2.waitKey(0)\n",
    "cv2.destroyAllWindows()"
   ]
  },
  {
   "cell_type": "code",
   "execution_count": 52,
   "id": "dd41b8bc",
   "metadata": {},
   "outputs": [],
   "source": [
    "rasm_3 = cv2.subtract(rasm_1,rasm_2)\n",
    "cv2.imshow(\"rasm_3\", rasm_3)\n",
    "cv2.waitKey(0)\n",
    "cv2.destroyAllWindows()"
   ]
  }
 ],
 "metadata": {
  "kernelspec": {
   "display_name": "Python 3 (ipykernel)",
   "language": "python",
   "name": "python3"
  },
  "language_info": {
   "codemirror_mode": {
    "name": "ipython",
    "version": 3
   },
   "file_extension": ".py",
   "mimetype": "text/x-python",
   "name": "python",
   "nbconvert_exporter": "python",
   "pygments_lexer": "ipython3",
   "version": "3.10.4"
  }
 },
 "nbformat": 4,
 "nbformat_minor": 5
}
