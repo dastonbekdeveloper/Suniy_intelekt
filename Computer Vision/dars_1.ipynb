{
 "cells": [
  {
   "cell_type": "markdown",
   "id": "7e3911c8",
   "metadata": {},
   "source": [
    "### birinchi navbatda kutubxonani yuklash bilan boshlaymiz hozir menda avvol bu kutubxona o'rnatilgani uchun xatolik chiqaryapti"
   ]
  },
  {
   "cell_type": "code",
   "execution_count": 1,
   "id": "26b2911b",
   "metadata": {},
   "outputs": [
    {
     "name": "stdout",
     "output_type": "stream",
     "text": [
      "Requirement already satisfied: opencv-python in c:\\users\\user\\appdata\\local\\programs\\python\\python310\\lib\\site-packages (4.6.0.66)\n",
      "Requirement already satisfied: numpy>=1.21.2 in c:\\users\\user\\appdata\\local\\programs\\python\\python310\\lib\\site-packages (from opencv-python) (1.22.3)\n"
     ]
    },
    {
     "name": "stderr",
     "output_type": "stream",
     "text": [
      "WARNING: You are using pip version 22.0.4; however, version 22.2.2 is available.\n",
      "You should consider upgrading via the 'C:\\Users\\User\\AppData\\Local\\Programs\\Python\\Python310\\python.exe -m pip install --upgrade pip' command.\n"
     ]
    }
   ],
   "source": [
    "!pip install opencv-python"
   ]
  },
  {
   "cell_type": "code",
   "execution_count": 2,
   "id": "2f41177c",
   "metadata": {},
   "outputs": [
    {
     "name": "stdout",
     "output_type": "stream",
     "text": [
      "Requirement already satisfied: numpy in c:\\users\\user\\appdata\\local\\programs\\python\\python310\\lib\\site-packages (1.22.3)\n"
     ]
    },
    {
     "name": "stderr",
     "output_type": "stream",
     "text": [
      "WARNING: You are using pip version 22.0.4; however, version 22.2.2 is available.\n",
      "You should consider upgrading via the 'C:\\Users\\User\\AppData\\Local\\Programs\\Python\\Python310\\python.exe -m pip install --upgrade pip' command.\n"
     ]
    }
   ],
   "source": [
    "!pip install numpy"
   ]
  },
  {
   "cell_type": "code",
   "execution_count": 3,
   "id": "1ff66534",
   "metadata": {},
   "outputs": [],
   "source": [
    "#endi bizga kerak kutubxonalardi chaqirib olamiz\n",
    "import cv2\n",
    "import numpy as np"
   ]
  },
  {
   "cell_type": "code",
   "execution_count": 9,
   "id": "e7cab9dc",
   "metadata": {},
   "outputs": [],
   "source": [
    "#ishni eng avval rasm yaratishdan boshlaymiz\n",
    "rasm = np.full((200,200,3),255, dtype='uint8')#numpydan foydalanib\n",
    "#3d array hosil qildik va uning o'lchamini 200ga 2000 qilib ichini oqga bo'yadik va sonlarning typeni uint8 qildik\n",
    "cv2.imshow(\"Dars\",rasm)#rasmni chiqarib unga nom berdik\n",
    "cv2.waitKey(0)#bu yerda rasmni qancha vaqt ushlab turish\n",
    "cv2.destroyAllWindows()\n",
    "#bu kodni ishga tushirgandan keyin kampyuter panelida python ikonkasi chiqib turubdi shuni ochib ko'ring"
   ]
  },
  {
   "cell_type": "code",
   "execution_count": 10,
   "id": "281809ee",
   "metadata": {},
   "outputs": [
    {
     "name": "stdout",
     "output_type": "stream",
     "text": [
      "[[[255 255 255]\n",
      "  [255 255 255]\n",
      "  [255 255 255]\n",
      "  ...\n",
      "  [255 255 255]\n",
      "  [255 255 255]\n",
      "  [255 255 255]]\n",
      "\n",
      " [[255 255 255]\n",
      "  [255 255 255]\n",
      "  [255 255 255]\n",
      "  ...\n",
      "  [255 255 255]\n",
      "  [255 255 255]\n",
      "  [255 255 255]]\n",
      "\n",
      " [[255 255 255]\n",
      "  [255 255 255]\n",
      "  [255 255 255]\n",
      "  ...\n",
      "  [255 255 255]\n",
      "  [255 255 255]\n",
      "  [255 255 255]]\n",
      "\n",
      " ...\n",
      "\n",
      " [[255 255 255]\n",
      "  [255 255 255]\n",
      "  [255 255 255]\n",
      "  ...\n",
      "  [255 255 255]\n",
      "  [255 255 255]\n",
      "  [255 255 255]]\n",
      "\n",
      " [[255 255 255]\n",
      "  [255 255 255]\n",
      "  [255 255 255]\n",
      "  ...\n",
      "  [255 255 255]\n",
      "  [255 255 255]\n",
      "  [255 255 255]]\n",
      "\n",
      " [[255 255 255]\n",
      "  [255 255 255]\n",
      "  [255 255 255]\n",
      "  ...\n",
      "  [255 255 255]\n",
      "  [255 255 255]\n",
      "  [255 255 255]]]\n",
      "(200, 200, 3)\n",
      "3\n"
     ]
    }
   ],
   "source": [
    "#rasmning ma'lumotlarini ekranga chiqarish ko'ramiz\n",
    "print(rasm)\n",
    "print(rasm.shape)\n",
    "print(rasm.ndim)"
   ]
  },
  {
   "cell_type": "markdown",
   "id": "e5b11002",
   "metadata": {},
   "source": [
    "# Oq-qora rasm"
   ]
  },
  {
   "cell_type": "code",
   "execution_count": 15,
   "id": "25af5825",
   "metadata": {},
   "outputs": [],
   "source": [
    "#bu rasm 2ta kanaldan iborat shuning uchun oq-qora rasm hosil boladi\n",
    "rasm = np.random.randint(0,255,size=(300,300),dtype='uint8')\n",
    "cv2.imshow(\"Oqqora\",rasm)\n",
    "cv2.waitKey(0)\n",
    "cv2.destroyAllWindows()"
   ]
  },
  {
   "cell_type": "code",
   "execution_count": 13,
   "id": "2c8a9ccd",
   "metadata": {},
   "outputs": [
    {
     "data": {
      "text/plain": [
       "(300, 300)"
      ]
     },
     "execution_count": 13,
     "metadata": {},
     "output_type": "execute_result"
    }
   ],
   "source": [
    "rasm.shape"
   ]
  },
  {
   "cell_type": "code",
   "execution_count": 14,
   "id": "ef4ae244",
   "metadata": {},
   "outputs": [
    {
     "data": {
      "text/plain": [
       "2"
      ]
     },
     "execution_count": 14,
     "metadata": {},
     "output_type": "execute_result"
    }
   ],
   "source": [
    "rasm.ndim"
   ]
  },
  {
   "cell_type": "markdown",
   "id": "bfe10a6b",
   "metadata": {},
   "source": [
    "# RGB yoki Rangli rasm"
   ]
  },
  {
   "cell_type": "code",
   "execution_count": 16,
   "id": "f237739d",
   "metadata": {},
   "outputs": [],
   "source": [
    "rasm = np.random.randint(0,255,size=(300,300,3),dtype='uint8')\n",
    "cv2.imshow(\"RGB\",rasm)\n",
    "cv2.waitKey(0)\n",
    "cv2.destroyAllWindows()"
   ]
  },
  {
   "cell_type": "markdown",
   "id": "e5ea669f",
   "metadata": {},
   "source": [
    "# Rasmlar bilan ishlash"
   ]
  },
  {
   "cell_type": "code",
   "execution_count": 17,
   "id": "91bd4d74",
   "metadata": {},
   "outputs": [],
   "source": [
    "rasm_1 = np.random.randint(0,120,size=(300,300,3),dtype=\"uint8\")\n",
    "rasm_2 = np.random.randint(120,240,size=(300,300,3),dtype=np.uint8)"
   ]
  },
  {
   "cell_type": "code",
   "execution_count": 21,
   "id": "53ab071c",
   "metadata": {},
   "outputs": [],
   "source": [
    "#1-rasmni ekranga chiqarib ko'ramiz\n",
    "cv2.imshow(\"Rasm1\",rasm_1)\n",
    "cv2.waitKey(0)\n",
    "cv2.destroyAllWindows()"
   ]
  },
  {
   "cell_type": "code",
   "execution_count": 23,
   "id": "73f61f70",
   "metadata": {},
   "outputs": [],
   "source": [
    "#2-rasmni ekranga chiqarib ko'ramiz\n",
    "cv2.imshow(\"Rasm2\",rasm_2)\n",
    "cv2.waitKey(0)\n",
    "cv2.destroyAllWindows()"
   ]
  },
  {
   "cell_type": "code",
   "execution_count": 24,
   "id": "5a00a617",
   "metadata": {},
   "outputs": [],
   "source": [
    "#wta rasmni birlashtirib ekranga chiqarib ko'ramiz\n",
    "rasm_3 = np.hstack((rasm_1,rasm_2))\n",
    "cv2.imshow(\"Rasm3\",rasm_3)\n",
    "cv2.waitKey(0)\n",
    "cv2.destroyAllWindows()"
   ]
  },
  {
   "cell_type": "markdown",
   "id": "5e6855f8",
   "metadata": {},
   "source": [
    "# Rasmni o'qib olish"
   ]
  },
  {
   "cell_type": "code",
   "execution_count": 27,
   "id": "80580719",
   "metadata": {},
   "outputs": [],
   "source": [
    "a = cv2.imread(\"rasmlar/Tashkent.png\")#Alohida rasmlar degan papka \n",
    "#ochib olamiz va u yerga bitta rasm joylaymiz shuni biz kodimizda o'qib olamiz"
   ]
  },
  {
   "cell_type": "code",
   "execution_count": 28,
   "id": "5a7a5e75",
   "metadata": {},
   "outputs": [
    {
     "name": "stdout",
     "output_type": "stream",
     "text": [
      "[[[140  21   0]\n",
      "  [140  21   0]\n",
      "  [140  21   0]\n",
      "  ...\n",
      "  [184  34   0]\n",
      "  [184  34   0]\n",
      "  [184  34   0]]\n",
      "\n",
      " [[140  21   0]\n",
      "  [140  21   0]\n",
      "  [141  22   0]\n",
      "  ...\n",
      "  [184  34   0]\n",
      "  [184  34   0]\n",
      "  [184  34   0]]\n",
      "\n",
      " [[140  21   0]\n",
      "  [141  22   0]\n",
      "  [141  22   0]\n",
      "  ...\n",
      "  [185  35   0]\n",
      "  [185  35   0]\n",
      "  [185  35   0]]\n",
      "\n",
      " ...\n",
      "\n",
      " [[ 26  56  37]\n",
      "  [ 26  56  37]\n",
      "  [ 25  57  38]\n",
      "  ...\n",
      "  [133 112 110]\n",
      "  [134 113 111]\n",
      "  [136 115 113]]\n",
      "\n",
      " [[ 20  57  37]\n",
      "  [ 20  57  37]\n",
      "  [ 20  59  38]\n",
      "  ...\n",
      "  [111  92  85]\n",
      "  [113  94  87]\n",
      "  [115  96  89]]\n",
      "\n",
      " [[ 20  57  37]\n",
      "  [ 20  57  37]\n",
      "  [ 20  59  38]\n",
      "  ...\n",
      "  [117  98  91]\n",
      "  [119 100  93]\n",
      "  [121 102  95]]]\n"
     ]
    }
   ],
   "source": [
    "print(a)#e'tibor berib turganingizdek rasmlar oddiy sonlardan tashkil topgan"
   ]
  },
  {
   "cell_type": "code",
   "execution_count": 31,
   "id": "354352ac",
   "metadata": {},
   "outputs": [],
   "source": [
    "rasm = cv2.imread(\"rasmlar/Tashkent.png\")\n",
    "cv2.imshow(\"Rasm\",rasm)\n",
    "cv2.waitKey(0)\n",
    "cv2.destroyAllWindows()"
   ]
  },
  {
   "cell_type": "code",
   "execution_count": 35,
   "id": "48574ce9",
   "metadata": {},
   "outputs": [
    {
     "data": {
      "text/plain": [
       "(275, 183)"
      ]
     },
     "execution_count": 35,
     "metadata": {},
     "output_type": "execute_result"
    }
   ],
   "source": [
    "rasm.shape#o'lchhamlari"
   ]
  },
  {
   "cell_type": "markdown",
   "id": "9ed27d43",
   "metadata": {},
   "source": [
    "# Oq qora o'qish"
   ]
  },
  {
   "cell_type": "code",
   "execution_count": 34,
   "id": "0874928f",
   "metadata": {},
   "outputs": [],
   "source": [
    "rasm = cv2.imread(\"rasmlar/Tashkent.png\",0)\n",
    "cv2.imshow(\"Rasm\",rasm)\n",
    "cv2.waitKey(0)\n",
    "cv2.destroyAllWindows()"
   ]
  },
  {
   "cell_type": "markdown",
   "id": "f2d2ba42",
   "metadata": {},
   "source": [
    "# Rasmni burish"
   ]
  },
  {
   "cell_type": "code",
   "execution_count": 37,
   "id": "5d97b207",
   "metadata": {},
   "outputs": [],
   "source": [
    "rasm = cv2.imread(\"rasmlar/Tashkent.png\")\n",
    "cv2.imshow(\"Rasm\",rasm)\n",
    "cv2.waitKey(0)\n",
    "cv2.destroyAllWindows()"
   ]
  },
  {
   "cell_type": "code",
   "execution_count": 39,
   "id": "6b20d708",
   "metadata": {},
   "outputs": [],
   "source": [
    "rasm_2 = np.rot90(rasm,5)#rasmni burish uchun rot90 funksiyasidan foydalandik\n",
    "cv2.imshow(\"Rasm\",rasm_2)\n",
    "cv2.waitKey(0)\n",
    "cv2.destroyAllWindows()"
   ]
  },
  {
   "cell_type": "markdown",
   "id": "f26b768b",
   "metadata": {},
   "source": [
    "# Rasmdi normallashtirish"
   ]
  },
  {
   "cell_type": "code",
   "execution_count": 40,
   "id": "7b22ac06",
   "metadata": {},
   "outputs": [],
   "source": [
    "rasm = cv2.imread(\"rasmlar/Tashkent.png\")\n",
    "cv2.imshow(\"Rasm\",rasm)\n",
    "cv2.waitKey(0)\n",
    "cv2.destroyAllWindows()"
   ]
  },
  {
   "cell_type": "code",
   "execution_count": 41,
   "id": "28287afa",
   "metadata": {},
   "outputs": [
    {
     "name": "stdout",
     "output_type": "stream",
     "text": [
      "[[[140  21   0]\n",
      "  [140  21   0]\n",
      "  [140  21   0]\n",
      "  ...\n",
      "  [184  34   0]\n",
      "  [184  34   0]\n",
      "  [184  34   0]]\n",
      "\n",
      " [[140  21   0]\n",
      "  [140  21   0]\n",
      "  [141  22   0]\n",
      "  ...\n",
      "  [184  34   0]\n",
      "  [184  34   0]\n",
      "  [184  34   0]]\n",
      "\n",
      " [[140  21   0]\n",
      "  [141  22   0]\n",
      "  [141  22   0]\n",
      "  ...\n",
      "  [185  35   0]\n",
      "  [185  35   0]\n",
      "  [185  35   0]]\n",
      "\n",
      " ...\n",
      "\n",
      " [[ 26  56  37]\n",
      "  [ 26  56  37]\n",
      "  [ 25  57  38]\n",
      "  ...\n",
      "  [133 112 110]\n",
      "  [134 113 111]\n",
      "  [136 115 113]]\n",
      "\n",
      " [[ 20  57  37]\n",
      "  [ 20  57  37]\n",
      "  [ 20  59  38]\n",
      "  ...\n",
      "  [111  92  85]\n",
      "  [113  94  87]\n",
      "  [115  96  89]]\n",
      "\n",
      " [[ 20  57  37]\n",
      "  [ 20  57  37]\n",
      "  [ 20  59  38]\n",
      "  ...\n",
      "  [117  98  91]\n",
      "  [119 100  93]\n",
      "  [121 102  95]]]\n"
     ]
    }
   ],
   "source": [
    "print(rasm)"
   ]
  },
  {
   "cell_type": "code",
   "execution_count": 44,
   "id": "b287608e",
   "metadata": {},
   "outputs": [],
   "source": [
    "rasm = cv2.imread(\"rasmlar/Tashkent.png\")\n",
    "#bu yerda biz rasmning typeni float32ga o'tkazib 255ga bolib yubordik\n",
    "rasm_2 = rasm.astype(\"float32\") / 255.0\n",
    "#avval rasmni hosil qilib turgan sonlar 0va255 sonlar orasida bolgan bolsa endi 0va1 orasida boladi\n",
    "cv2.imshow(\"Rasm\",rasm_2)\n",
    "cv2.waitKey(0)\n",
    "cv2.destroyAllWindows()"
   ]
  },
  {
   "cell_type": "code",
   "execution_count": 45,
   "id": "da318ac4",
   "metadata": {},
   "outputs": [
    {
     "name": "stdout",
     "output_type": "stream",
     "text": [
      "[[[0.54901963 0.08235294 0.        ]\n",
      "  [0.54901963 0.08235294 0.        ]\n",
      "  [0.54901963 0.08235294 0.        ]\n",
      "  ...\n",
      "  [0.72156864 0.13333334 0.        ]\n",
      "  [0.72156864 0.13333334 0.        ]\n",
      "  [0.72156864 0.13333334 0.        ]]\n",
      "\n",
      " [[0.54901963 0.08235294 0.        ]\n",
      "  [0.54901963 0.08235294 0.        ]\n",
      "  [0.5529412  0.08627451 0.        ]\n",
      "  ...\n",
      "  [0.72156864 0.13333334 0.        ]\n",
      "  [0.72156864 0.13333334 0.        ]\n",
      "  [0.72156864 0.13333334 0.        ]]\n",
      "\n",
      " [[0.54901963 0.08235294 0.        ]\n",
      "  [0.5529412  0.08627451 0.        ]\n",
      "  [0.5529412  0.08627451 0.        ]\n",
      "  ...\n",
      "  [0.7254902  0.13725491 0.        ]\n",
      "  [0.7254902  0.13725491 0.        ]\n",
      "  [0.7254902  0.13725491 0.        ]]\n",
      "\n",
      " ...\n",
      "\n",
      " [[0.10196079 0.21960784 0.14509805]\n",
      "  [0.10196079 0.21960784 0.14509805]\n",
      "  [0.09803922 0.22352941 0.14901961]\n",
      "  ...\n",
      "  [0.52156866 0.4392157  0.43137255]\n",
      "  [0.5254902  0.44313726 0.43529412]\n",
      "  [0.53333336 0.4509804  0.44313726]]\n",
      "\n",
      " [[0.07843138 0.22352941 0.14509805]\n",
      "  [0.07843138 0.22352941 0.14509805]\n",
      "  [0.07843138 0.23137255 0.14901961]\n",
      "  ...\n",
      "  [0.43529412 0.36078432 0.33333334]\n",
      "  [0.44313726 0.36862746 0.34117648]\n",
      "  [0.4509804  0.3764706  0.34901962]]\n",
      "\n",
      " [[0.07843138 0.22352941 0.14509805]\n",
      "  [0.07843138 0.22352941 0.14509805]\n",
      "  [0.07843138 0.23137255 0.14901961]\n",
      "  ...\n",
      "  [0.45882353 0.38431373 0.35686275]\n",
      "  [0.46666667 0.39215687 0.3647059 ]\n",
      "  [0.4745098  0.4        0.37254903]]]\n"
     ]
    }
   ],
   "source": [
    "print(rasm_2)"
   ]
  },
  {
   "cell_type": "code",
   "execution_count": 46,
   "id": "d79d2c35",
   "metadata": {},
   "outputs": [
    {
     "name": "stdout",
     "output_type": "stream",
     "text": [
      "float32\n"
     ]
    }
   ],
   "source": [
    "print(rasm_2.dtype)"
   ]
  },
  {
   "cell_type": "code",
   "execution_count": 49,
   "id": "6577892f",
   "metadata": {},
   "outputs": [
    {
     "name": "stdout",
     "output_type": "stream",
     "text": [
      "[[[0.5 0.1 0. ]\n",
      "  [0.5 0.1 0. ]\n",
      "  [0.5 0.1 0. ]\n",
      "  ...\n",
      "  [0.7 0.1 0. ]\n",
      "  [0.7 0.1 0. ]\n",
      "  [0.7 0.1 0. ]]\n",
      "\n",
      " [[0.5 0.1 0. ]\n",
      "  [0.5 0.1 0. ]\n",
      "  [0.6 0.1 0. ]\n",
      "  ...\n",
      "  [0.7 0.1 0. ]\n",
      "  [0.7 0.1 0. ]\n",
      "  [0.7 0.1 0. ]]\n",
      "\n",
      " [[0.5 0.1 0. ]\n",
      "  [0.6 0.1 0. ]\n",
      "  [0.6 0.1 0. ]\n",
      "  ...\n",
      "  [0.7 0.1 0. ]\n",
      "  [0.7 0.1 0. ]\n",
      "  [0.7 0.1 0. ]]\n",
      "\n",
      " ...\n",
      "\n",
      " [[0.1 0.2 0.1]\n",
      "  [0.1 0.2 0.1]\n",
      "  [0.1 0.2 0.1]\n",
      "  ...\n",
      "  [0.5 0.4 0.4]\n",
      "  [0.5 0.4 0.4]\n",
      "  [0.5 0.5 0.4]]\n",
      "\n",
      " [[0.1 0.2 0.1]\n",
      "  [0.1 0.2 0.1]\n",
      "  [0.1 0.2 0.1]\n",
      "  ...\n",
      "  [0.4 0.4 0.3]\n",
      "  [0.4 0.4 0.3]\n",
      "  [0.5 0.4 0.3]]\n",
      "\n",
      " [[0.1 0.2 0.1]\n",
      "  [0.1 0.2 0.1]\n",
      "  [0.1 0.2 0.1]\n",
      "  ...\n",
      "  [0.5 0.4 0.4]\n",
      "  [0.5 0.4 0.4]\n",
      "  [0.5 0.4 0.4]]]\n"
     ]
    }
   ],
   "source": [
    "rasm_3 = np.around(rasm_2,1)#round funksiyasidan foydalanib sonlarni yaxlitlab oladik, ammo rasm ham ozgina hiralashganiga e'tibor bearisiz \n",
    "print(rasm_3)"
   ]
  },
  {
   "cell_type": "code",
   "execution_count": 48,
   "id": "418b70b8",
   "metadata": {},
   "outputs": [],
   "source": [
    "cv2.imshow(\"Rasm\",rasm_3)\n",
    "cv2.waitKey(0)\n",
    "cv2.destroyAllWindows()"
   ]
  },
  {
   "cell_type": "markdown",
   "id": "6e400a8d",
   "metadata": {},
   "source": [
    "# rasm kanallari"
   ]
  },
  {
   "cell_type": "code",
   "execution_count": 51,
   "id": "28b2d0cd",
   "metadata": {},
   "outputs": [],
   "source": [
    "rasm = cv2.imread(\"rasmlar/Tashkent.png\")\n",
    "cv2.imshow(\"Rasm\",rasm)\n",
    "cv2.waitKey(0)\n",
    "cv2.destroyAllWindows()"
   ]
  },
  {
   "cell_type": "code",
   "execution_count": 52,
   "id": "a7e63ad8",
   "metadata": {},
   "outputs": [],
   "source": [
    "blue_canal = rasm[:,:,0]\n",
    "green_canal = rasm[:,:,1]\n",
    "red_canal = rasm[:,:,2]"
   ]
  },
  {
   "cell_type": "code",
   "execution_count": 53,
   "id": "eb9c8176",
   "metadata": {},
   "outputs": [
    {
     "data": {
      "text/plain": [
       "array([[  0,   0,   0, ...,   0,   0,   0],\n",
       "       [  0,   0,   0, ...,   0,   0,   0],\n",
       "       [  0,   0,   0, ...,   0,   0,   0],\n",
       "       ...,\n",
       "       [ 37,  37,  38, ..., 110, 111, 113],\n",
       "       [ 37,  37,  38, ...,  85,  87,  89],\n",
       "       [ 37,  37,  38, ...,  91,  93,  95]], dtype=uint8)"
      ]
     },
     "execution_count": 53,
     "metadata": {},
     "output_type": "execute_result"
    }
   ],
   "source": [
    "red_canal"
   ]
  },
  {
   "cell_type": "code",
   "execution_count": 54,
   "id": "f5429ed2",
   "metadata": {},
   "outputs": [
    {
     "data": {
      "text/plain": [
       "array([[ 21,  21,  21, ...,  34,  34,  34],\n",
       "       [ 21,  21,  22, ...,  34,  34,  34],\n",
       "       [ 21,  22,  22, ...,  35,  35,  35],\n",
       "       ...,\n",
       "       [ 56,  56,  57, ..., 112, 113, 115],\n",
       "       [ 57,  57,  59, ...,  92,  94,  96],\n",
       "       [ 57,  57,  59, ...,  98, 100, 102]], dtype=uint8)"
      ]
     },
     "execution_count": 54,
     "metadata": {},
     "output_type": "execute_result"
    }
   ],
   "source": [
    "green_canal"
   ]
  },
  {
   "cell_type": "code",
   "execution_count": 55,
   "id": "d9cf0623",
   "metadata": {},
   "outputs": [
    {
     "data": {
      "text/plain": [
       "array([[140, 140, 140, ..., 184, 184, 184],\n",
       "       [140, 140, 141, ..., 184, 184, 184],\n",
       "       [140, 141, 141, ..., 185, 185, 185],\n",
       "       ...,\n",
       "       [ 26,  26,  25, ..., 133, 134, 136],\n",
       "       [ 20,  20,  20, ..., 111, 113, 115],\n",
       "       [ 20,  20,  20, ..., 117, 119, 121]], dtype=uint8)"
      ]
     },
     "execution_count": 55,
     "metadata": {},
     "output_type": "execute_result"
    }
   ],
   "source": [
    "blue_canal"
   ]
  },
  {
   "cell_type": "code",
   "execution_count": 58,
   "id": "38898e60",
   "metadata": {},
   "outputs": [
    {
     "name": "stdout",
     "output_type": "stream",
     "text": [
      "140\n",
      "21\n",
      "0\n"
     ]
    }
   ],
   "source": [
    "print(rasm[0,0,0])\n",
    "print(rasm[0,0,1])\n",
    "print(rasm[0,0,2])"
   ]
  },
  {
   "cell_type": "code",
   "execution_count": 59,
   "id": "e00688da",
   "metadata": {},
   "outputs": [
    {
     "data": {
      "text/plain": [
       "array([[[140,  21,   0],\n",
       "        [140,  21,   0],\n",
       "        [140,  21,   0],\n",
       "        ...,\n",
       "        [184,  34,   0],\n",
       "        [184,  34,   0],\n",
       "        [184,  34,   0]],\n",
       "\n",
       "       [[140,  21,   0],\n",
       "        [140,  21,   0],\n",
       "        [141,  22,   0],\n",
       "        ...,\n",
       "        [184,  34,   0],\n",
       "        [184,  34,   0],\n",
       "        [184,  34,   0]],\n",
       "\n",
       "       [[140,  21,   0],\n",
       "        [141,  22,   0],\n",
       "        [141,  22,   0],\n",
       "        ...,\n",
       "        [185,  35,   0],\n",
       "        [185,  35,   0],\n",
       "        [185,  35,   0]],\n",
       "\n",
       "       ...,\n",
       "\n",
       "       [[ 26,  56,  37],\n",
       "        [ 26,  56,  37],\n",
       "        [ 25,  57,  38],\n",
       "        ...,\n",
       "        [133, 112, 110],\n",
       "        [134, 113, 111],\n",
       "        [136, 115, 113]],\n",
       "\n",
       "       [[ 20,  57,  37],\n",
       "        [ 20,  57,  37],\n",
       "        [ 20,  59,  38],\n",
       "        ...,\n",
       "        [111,  92,  85],\n",
       "        [113,  94,  87],\n",
       "        [115,  96,  89]],\n",
       "\n",
       "       [[ 20,  57,  37],\n",
       "        [ 20,  57,  37],\n",
       "        [ 20,  59,  38],\n",
       "        ...,\n",
       "        [117,  98,  91],\n",
       "        [119, 100,  93],\n",
       "        [121, 102,  95]]], dtype=uint8)"
      ]
     },
     "execution_count": 59,
     "metadata": {},
     "output_type": "execute_result"
    }
   ],
   "source": [
    "rasm"
   ]
  },
  {
   "cell_type": "code",
   "execution_count": 60,
   "id": "a9d3982a",
   "metadata": {},
   "outputs": [],
   "source": [
    "cv2.imshow(\"Blue\",blue_canal)\n",
    "cv2.waitKey(0)\n",
    "cv2.destroyAllWindows()"
   ]
  }
 ],
 "metadata": {
  "kernelspec": {
   "display_name": "Python 3 (ipykernel)",
   "language": "python",
   "name": "python3"
  },
  "language_info": {
   "codemirror_mode": {
    "name": "ipython",
    "version": 3
   },
   "file_extension": ".py",
   "mimetype": "text/x-python",
   "name": "python",
   "nbconvert_exporter": "python",
   "pygments_lexer": "ipython3",
   "version": "3.10.4"
  }
 },
 "nbformat": 4,
 "nbformat_minor": 5
}
